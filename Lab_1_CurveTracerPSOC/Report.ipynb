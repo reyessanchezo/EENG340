{
 "cells": [
  {
   "cell_type": "markdown",
   "metadata": {},
   "source": [
    "# Lab 1 Report\n",
    "\n",
    "This lab is about developing a curve tracer for BJT and MOSFET transistors. \n"
   ]
  },
  {
   "cell_type": "markdown",
   "metadata": {},
   "source": [
    "Testing the IDAC. \n",
    "The first test of the IDAC was to run a loop that would increment the current output to its maximum, then decrement to a minimum. This was verified by reading the voltage across a 1k resistor and reading the oscilloscope output. The oscilloscope output demonstrates that the IDAC ramp is behaving as expected; in this case, the IDAC is ramping between 0-600 uA."
   ]
  },
  {
   "cell_type": "markdown",
   "metadata": {},
   "source": [
    "IDAC Circuit"
   ]
  },
  {
   "cell_type": "markdown",
   "metadata": {},
   "source": [
    "![IDAC_Testing_Circuit](Images/IDAC_Sweep_circuit.png)\n"
   ]
  },
  {
   "cell_type": "markdown",
   "metadata": {},
   "source": [
    "IDAC Output"
   ]
  },
  {
   "cell_type": "markdown",
   "metadata": {},
   "source": [
    "![IDAC_Testing_Oscilloscope](Images/IDAC_Sweep_Output.png)"
   ]
  },
  {
   "cell_type": "markdown",
   "metadata": {},
   "source": [
    "Testing the VDAC\n",
    "\n",
    "\n",
    "\n",
    "The VDAC is configured to output a voltage level between 0-3.3 V. In the configuration below, the VDAC output is directly connected to the oscilloscope with no load. Channel 1 on the oscilloscope is measuring the IDAC output as before and Channel 2 is displaying the VDAC output which goes up to just below 3.3 Volts. \n",
    "\n"
   ]
  },
  {
   "cell_type": "markdown",
   "metadata": {},
   "source": [
    "VDAC and IDAC circuit"
   ]
  },
  {
   "cell_type": "markdown",
   "metadata": {},
   "source": [
    "![VDAC_testing_circuit](Images/VDAC_Test_circuit.png)"
   ]
  },
  {
   "cell_type": "markdown",
   "metadata": {},
   "source": [
    "VDAC (blue) and IDAC (yellow) output"
   ]
  },
  {
   "cell_type": "markdown",
   "metadata": {},
   "source": [
    "![VDAC_testing_Oscilloscope](Images/VDAC_Test_Output.png)"
   ]
  },
  {
   "cell_type": "markdown",
   "metadata": {},
   "source": [
    "Curve Tracer\n",
    "With the VDAC and IDAC functioning, the next piece is to ramp the VDAC for each increment of the IDAC. The goal at this point is to measure the variation in the collector current of a BJT transistor as the collector voltage is varied with constant base current. The circuit setup matches the circuit shown for the simulation.\n",
    "\n",
    "The simulation runs a dc sweep on the voltage source for every step of the current source value. The VCH, VCL, VBH, and VBL probes each correspond to ADC pins on the PSoC6 being used. "
   ]
  },
  {
   "cell_type": "markdown",
   "metadata": {},
   "source": [
    "BJT Parameter Sweep Simulation circuit\n"
   ]
  },
  {
   "cell_type": "markdown",
   "metadata": {},
   "source": [
    "![BJT_Sweep_circuit](Images\\BJTSweep_SimCircuit.png)"
   ]
  },
  {
   "cell_type": "markdown",
   "metadata": {},
   "source": [
    "The results of this simulation are saved in a csv, then imported to an Excel spreadsheet to run the calculations. The curve trace output is shown below for the base current and collector voltage. The labels are wrong but the currents go from 10 uA to 80 uA in increments of 5 uA."
   ]
  },
  {
   "cell_type": "markdown",
   "metadata": {},
   "source": [
    "The output graph shows that the BJT in the simulation has nearly perfect curves for varying voltage."
   ]
  },
  {
   "cell_type": "markdown",
   "metadata": {},
   "source": [
    "![BJT_Sweep_sim](Images\\BJT_IcVcSim.png)"
   ]
  },
  {
   "cell_type": "markdown",
   "metadata": {},
   "source": [
    "The simulation also reveals ideal current control for the BJT circuit\n"
   ]
  },
  {
   "cell_type": "markdown",
   "metadata": {},
   "source": [
    "![BJTSimIBvIC](Images\\BJT_IbIcSim.png)"
   ]
  },
  {
   "cell_type": "markdown",
   "metadata": {},
   "source": [
    "Circuit setup for BJT sweep"
   ]
  },
  {
   "cell_type": "markdown",
   "metadata": {},
   "source": [
    "![BJT_Sweep_circuit](Images/BJT_Circuit.png)"
   ]
  },
  {
   "cell_type": "markdown",
   "metadata": {},
   "source": [
    "BJT sweep output graph\n"
   ]
  },
  {
   "cell_type": "markdown",
   "metadata": {},
   "source": [
    "\n",
    "![BJTSweepGraphLab](Images\\BJT_IcVcLab.png)"
   ]
  },
  {
   "cell_type": "markdown",
   "metadata": {},
   "source": [
    "The lab data reveals imperfect current control or ADC readings"
   ]
  },
  {
   "cell_type": "markdown",
   "metadata": {},
   "source": [
    "\n",
    "![BJT_IBvICLab](Images\\BJT_IbIcLab.png)"
   ]
  },
  {
   "cell_type": "markdown",
   "metadata": {},
   "source": [
    "FET Simulation\n",
    "22"
   ]
  }
 ],
 "metadata": {
  "language_info": {
   "name": "python"
  }
 },
 "nbformat": 4,
 "nbformat_minor": 2
}
